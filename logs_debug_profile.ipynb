{
 "cells": [
  {
   "cell_type": "markdown",
   "metadata": {
    "slideshow": {
     "slide_type": "slide"
    }
   },
   "source": [
    "Что делать, когда программа работает не так как надо?\n",
    "- print\n",
    "- log\n",
    "- debug\n",
    "- иногда программа может работать с некоторыми некоректными данными, напрмер отсутствие колонки (таблицы) в базе данных...\n",
    "\n",
    "\n",
    "\n",
    "Что делать, когда программа работает медленно?\n",
    "- профилирование"
   ]
  },
  {
   "cell_type": "markdown",
   "metadata": {
    "slideshow": {
     "slide_type": "slide"
    }
   },
   "source": [
    "Профилирование - форма динамического анализа программы. \n",
    "\n",
    "Основной способ сбора данных - замеры. \n",
    "\n",
    "Потом замеры обрабатываются для получиния какого-либо вывода.\n",
    "\n",
    "\n",
    "Профилировать можно\n",
    "- память\n",
    "- время работы"
   ]
  },
  {
   "cell_type": "markdown",
   "metadata": {
    "slideshow": {
     "slide_type": "slide"
    }
   },
   "source": [
    "Два подхода при профилировании\n",
    "\n",
    "- сэмплирование (статистический профайлинг)\n",
    "\n",
    "приостанавливаем выполнение программы каждые n милисекунд (секунд, наносекунд) записываем данные, обычно stacktrace и на основании этих данных получаем какую-то информацию\n",
    "\n",
    "(+) более щедящий режим, каждые n милисекунд выполнение программы замедляется и затем продолжается в обычном режиме. Оставляет программе простор для работы обычным образом.\n",
    "\n",
    "(-) не так подробно и не так точно\n",
    "\n",
    "\n",
    "- инструментирование (cProfile/profile)\n",
    "\n",
    "часть программы оборачивается определенным кодом. Например при вызове определенной функции пишет интересные нам данные\n",
    "\n",
    "(+) более подробная информация о программе\n",
    "\n",
    "(-) может занимать достаточно много ресурсов => вносит существенный след в процесс выполнения программы"
   ]
  },
  {
   "cell_type": "code",
   "execution_count": null,
   "metadata": {
    "slideshow": {
     "slide_type": "slide"
    }
   },
   "outputs": [],
   "source": [
    "import logging\n",
    "\n",
    "log = logging.getLogger(name)\n",
    "\n",
    "# Если уже есть лог с таким же именем, то вернется он же\n",
    "# Если такого обхекта еще нет, то он создастся и вернется\n",
    "\n",
    "name = 'a.b.c'\n",
    "\n",
    "# Обычно используют так:\n",
    "log = logging.getLogger(__name__)\n",
    "\n",
    "log.debug(...)\n",
    "log.info(...)\n",
    "log.warning(...)\n",
    "log.error(...)\n",
    "# log.exception(...)\n",
    "\n",
    "try:\n",
    "    ...\n",
    "except ...:\n",
    "    log.exception('Произошла странная ошибка.')"
   ]
  },
  {
   "cell_type": "markdown",
   "metadata": {
    "slideshow": {
     "slide_type": "slide"
    }
   },
   "source": [
    "Конфигурирование логирования\n",
    "\n",
    "гибкие настройки, например\n",
    "- можно настроить логирование одновременно на нескольких языках\n",
    "- можно дополнять логи дополнительной информацией, например веб сервер может писать id пользователя\n",
    "- можно настроить запись логов в БД\n",
    "- ...\n",
    "\n",
    "\n",
    "- formatters\n",
    "- filtres\n",
    "- handlers\n",
    "- loggers\n"
   ]
  },
  {
   "cell_type": "markdown",
   "metadata": {
    "slideshow": {
     "slide_type": "slide"
    }
   },
   "source": [
    "Debugger (pdb)\n",
    "\n",
    "```python3 -m pdb my_script.py```\n",
    " \n",
    "```python\n",
    "# start debugging here\n",
    "import pdb\n",
    "pdb.set_trace()\n",
    "```"
   ]
  },
  {
   "cell_type": "markdown",
   "metadata": {
    "slideshow": {
     "slide_type": "slide"
    }
   },
   "source": [
    "Команды:\n",
    "```\n",
    "- l (list)\n",
    "- n (next)\n",
    "- c (continue)\n",
    "- s (step)\n",
    "- r (return)\n",
    "- b (break)\n",
    "- cl (clear)\n",
    "- any python code\n",
    "```\n",
    "\n",
    "pdb <-> ipython\n",
    "```\n",
    "ipython\n",
    "%run -d my_script.py\n",
    "```\n",
    "\n",
    "pycharm"
   ]
  },
  {
   "cell_type": "markdown",
   "metadata": {
    "slideshow": {
     "slide_type": "slide"
    }
   },
   "source": [
    "python3 -m cProfile my_script.py\n",
    "\n",
    "cProfile.run('my_func()')\n",
    "\n",
    "```python\n",
    "import cProfile\n",
    "\n",
    "\n",
    "def profile_this(f):\n",
    "    def profiled_f(*args, **kwargs):\n",
    "        prof = cProfile.Profile()\n",
    "        result = prof.runcall(f, *args, **kwargs)\n",
    "        f_path = f.__name__ + '.profile'\n",
    "        prof.dump_stats(f_path)\n",
    "        return result\n",
    "    return profiled_f\n",
    "```\n",
    "\n",
    "```\n",
    ">>> p = pstats.Stats('some.profile')\n",
    ">>> p.sort_stats('time')\n",
    ">>> p.print_stats(3)\n",
    "```\n",
    "\n",
    "cProfile + pstats + RunSnakeRun http://www.vrplumber.com/programming/runsnakerun/"
   ]
  },
  {
   "cell_type": "markdown",
   "metadata": {
    "slideshow": {
     "slide_type": "slide"
    }
   },
   "source": [
    "Еще\n",
    "- модуль timeit\n",
    "- модуль traceback\n"
   ]
  },
  {
   "cell_type": "markdown",
   "metadata": {
    "slideshow": {
     "slide_type": "slide"
    }
   },
   "source": [
    "Pickle (Бинарный формат)\n",
    "\n",
    "Для распаковки вам могут подсунуть исполняемый код\n",
    "https://docs.python.org/3/library/pickle.html#restricting-globals\n",
    "\n",
    "\n",
    "Что можно сохранить/прочитать?\n",
    "```\n",
    "None, True, and False\n",
    "integers, floating point numbers, complex numbers\n",
    "strings, bytes, bytearrays\n",
    "tuples, lists, sets, and dictionaries containing only picklable objects\n",
    "functions defined at the top level of a module (using def, not lambda)\n",
    "built-in functions defined at the top level of a module\n",
    "classes that are defined at the top level of a module\n",
    "instances of such classes whose __dict__ or the result of calling __getstate__() is picklable (see section Pickling Class Instances for details).\n",
    "```\n",
    "Хранятся только имена функций, классов..."
   ]
  },
  {
   "cell_type": "markdown",
   "metadata": {
    "slideshow": {
     "slide_type": "slide"
    }
   },
   "source": [
    "Что происходит с объектами при сохранении/восстановлении?\n",
    "```\n",
    "By default, pickle will retrieve the class and the attributes of an instance via introspection. When a class instance is unpickled, its __init__() method is usually not invoked. The default behaviour first creates an uninitialized instance and then restores the saved attributes. The following code shows an implementation of this behaviour:\n",
    "\n",
    "def save(obj):\n",
    "    return (obj.__class__, obj.__dict__)\n",
    "\n",
    "def load(cls, attributes):\n",
    "    obj = cls.__new__(cls)\n",
    "    obj.__dict__.update(attributes)\n",
    "    return obj\n",
    "```"
   ]
  },
  {
   "cell_type": "markdown",
   "metadata": {
    "slideshow": {
     "slide_type": "slide"
    }
   },
   "source": [
    "Как использовать?\n",
    "```\n",
    "pickle.dump(obj, file, protocol=None)  # Pickler(file, protocol).dump(obj)\n",
    "b = pickle.dumps(obj, protocol=None)\n",
    "obj = pickle.load(file)                # Unpickler(file).load()\n",
    "obj = pickle.loads(b)\n",
    "```\n",
    "\n",
    "В классе можно переопределить ```__setstate__```, ```__getstate__```\n",
    "https://docs.python.org/3/library/pickle.html#handling-stateful-objects"
   ]
  },
  {
   "cell_type": "markdown",
   "metadata": {
    "slideshow": {
     "slide_type": "slide"
    }
   },
   "source": [
    "Протоколы\n",
    "```\n",
    "There are currently 5 different protocols which can be used for pickling. The higher the protocol used, the more recent the version of Python needed to read the pickle produced.\n",
    "\n",
    "Protocol version 0 is the original “human-readable” protocol and is backwards compatible with earlier versions of Python.\n",
    "Protocol version 1 is an old binary format which is also compatible with earlier versions of Python.\n",
    "Protocol version 2 was introduced in Python 2.3. It provides much more efficient pickling of new-style classes. Refer to PEP 307 for information about improvements brought by protocol 2.\n",
    "Protocol version 3 was added in Python 3.0. It has explicit support for bytes objects and cannot be unpickled by Python 2.x. This is the default protocol, and the recommended protocol when compatibility with other Python 3 versions is required.\n",
    "Protocol version 4 was added in Python 3.4. It adds support for very large objects, pickling more kinds of objects, and some data format optimizations. Refer to PEP 3154 for information about improvements brought by protocol 4.\n",
    "```"
   ]
  },
  {
   "cell_type": "markdown",
   "metadata": {
    "slideshow": {
     "slide_type": "slide"
    }
   },
   "source": [
    "Пример вычисления простых чисел с записью промежуточных результатов с испльзованием pickle\n",
    "https://github.com/progpy/serialization/blob/v1/calculate_primes_and_save_pickle.py"
   ]
  }
 ],
 "metadata": {
  "celltoolbar": "Slideshow",
  "kernelspec": {
   "display_name": "Python 3",
   "language": "python",
   "name": "python3"
  },
  "language_info": {
   "codemirror_mode": {
    "name": "ipython",
    "version": 3
   },
   "file_extension": ".py",
   "mimetype": "text/x-python",
   "name": "python",
   "nbconvert_exporter": "python",
   "pygments_lexer": "ipython3",
   "version": "3.6.0"
  }
 },
 "nbformat": 4,
 "nbformat_minor": 2
}
